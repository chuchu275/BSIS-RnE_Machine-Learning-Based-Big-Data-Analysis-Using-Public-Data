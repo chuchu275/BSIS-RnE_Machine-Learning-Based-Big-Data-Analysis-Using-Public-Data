{
  "nbformat": 4,
  "nbformat_minor": 0,
  "metadata": {
    "colab": {
      "provenance": [],
      "collapsed_sections": []
    },
    "kernelspec": {
      "name": "python3",
      "display_name": "Python 3"
    },
    "language_info": {
      "name": "python"
    }
  },
  "cells": [
    {
      "cell_type": "code",
      "source": [
        "#한글 폰트 사용설치\n",
        "%config InlineBackend.figure_format = 'retina'\n",
        "\n",
        "!apt -qq -y install fonts-nanum"
      ],
      "metadata": {
        "colab": {
          "base_uri": "https://localhost:8080/"
        },
        "id": "-1ZHAGB2V9c6",
        "outputId": "3132b901-55ad-4e6a-bbb8-cb4505ea9626"
      },
      "execution_count": null,
      "outputs": [
        {
          "output_type": "stream",
          "name": "stdout",
          "text": [
            "fonts-nanum is already the newest version (20170925-1).\n",
            "The following package was automatically installed and is no longer required:\n",
            "  libnvidia-common-460\n",
            "Use 'apt autoremove' to remove it.\n",
            "0 upgraded, 0 newly installed, 0 to remove and 20 not upgraded.\n"
          ]
        }
      ]
    },
    {
      "cell_type": "code",
      "source": [
        "import pandas as pd\n",
        "import matplotlib.pyplot as plt\n",
        "import matplotlib as mpl\n",
        "import matplotlib.font_manager as fm\n",
        "import seaborn as sns\n",
        "import numpy as np\n",
        "\n",
        "import warnings\n",
        "warnings.filterwarnings(action='ignore')\n",
        "\n",
        "fontpath = '/usr/share/fonts/truetype/nanum/NanumBarunGothic.ttf'\n",
        "font = fm.FontProperties(fname=fontpath, size=9)\n",
        "plt.rc('font', family='NanumBarunGothic') \n",
        "mpl.font_manager._rebuild()"
      ],
      "metadata": {
        "id": "B75lhBjBV2Lc"
      },
      "execution_count": null,
      "outputs": []
    },
    {
      "cell_type": "code",
      "execution_count": null,
      "metadata": {
        "id": "h0GQ6b9qVyPi"
      },
      "outputs": [],
      "source": [
        "df1=pd.read_csv('/content/drive/MyDrive/전국 범죄건수.csv',encoding='cp949')\n",
        "df2=pd.read_csv('/content/drive/MyDrive/R&E김지환.csv',encoding='cp949')\n",
        "df3=pd.read_csv('/content/drive/MyDrive/R&E채승현.csv',encoding='cp949')\n",
        "df4=pd.read_csv('/content/drive/MyDrive/건물 상황 수정.csv')\n",
        "df5=pd.read_csv('/content/drive/MyDrive/대학교 수정.csv')"
      ]
    },
    {
      "cell_type": "code",
      "source": [
        "df1.columns=['행정구역', '절도', '살인', '강도', '폭행', '성폭력']"
      ],
      "metadata": {
        "id": "LvtQYXnzWAFH"
      },
      "execution_count": null,
      "outputs": []
    },
    {
      "cell_type": "code",
      "source": [
        "df2=df2[df2['행정구역'].isin(df1['행정구역'])]\n",
        "df1=df1[df1['행정구역'].isin(df2['행정구역'])]\n",
        "df3=df3[df3['행정구역'].isin(df1['행정구역'])]\n",
        "df1=df1.reset_index()\n",
        "df1=df1[['행정구역', '절도', '살인', '강도', '폭행', '성폭력']]"
      ],
      "metadata": {
        "id": "inRFOnz1XIo_"
      },
      "execution_count": null,
      "outputs": []
    },
    {
      "cell_type": "code",
      "source": [
        "df1['총합']=df1['절도']+df1['살인']+df1['강도']+df1['폭행']+df1['성폭력']"
      ],
      "metadata": {
        "id": "4h8Fz_x-cPmU"
      },
      "execution_count": null,
      "outputs": []
    },
    {
      "cell_type": "code",
      "source": [
        "df3=df3.reset_index()\n",
        "df3=df3[['전체인구(명)', '면적(m^2)']]\n",
        "df3.columns=['전체인구', '면적']"
      ],
      "metadata": {
        "id": "GkMJO5Tdd5FJ"
      },
      "execution_count": null,
      "outputs": []
    },
    {
      "cell_type": "code",
      "source": [
        "df2=df2.reset_index()\n",
        "df2=df2[['초중고', '유치원', '유흥주점']]"
      ],
      "metadata": {
        "id": "kKzdHO-RXjuS"
      },
      "execution_count": null,
      "outputs": []
    },
    {
      "cell_type": "code",
      "source": [
        "nd=pd.concat([df1,df2,df3],axis=1)\n",
        "nd"
      ],
      "metadata": {
        "colab": {
          "base_uri": "https://localhost:8080/",
          "height": 424
        },
        "id": "H9hrLBQAX8pp",
        "outputId": "6524a09a-608e-48cc-fea4-0e526f831a47"
      },
      "execution_count": null,
      "outputs": [
        {
          "output_type": "execute_result",
          "data": {
            "text/plain": [
              "         행정구역    절도  살인  강도    폭행  성폭력    총합  초중고  유치원  유흥주점    전체인구  \\\n",
              "0     강원도 강릉시   640   2   8  1290  171  2111   61   36   211  212965   \n",
              "1     강원도 동해시   185   2   0   470   54   711   27   15   125   90081   \n",
              "2     강원도 삼척시   140   2   1   381   30   554   41   16    85   63429   \n",
              "3     강원도 속초시   281   1   2   718   56  1058   19   14    80   82791   \n",
              "4     강원도 원주시  1150   5   7  1625  192  2979   90   72   251  357757   \n",
              "..        ...   ...  ..  ..   ...  ...   ...  ...  ...   ...     ...   \n",
              "146  충청남도 아산시  1201   7  15  1869  153  3245   77   63   197  324580   \n",
              "147  충청남도 천안시  2865   8  14  3025  496  6408  131  113   327  658486   \n",
              "148  충청북도 제천시   373   3   3   625  251  1255   43   23    94  131591   \n",
              "149  충청북도 청주시  3211   4   9  4490  559  8273  182  124   186  848482   \n",
              "150  충청북도 충주시   790   4   3   871  108  1776   66   43   179  209358   \n",
              "\n",
              "            면적  \n",
              "0     84958649  \n",
              "1    124014784  \n",
              "2     79882140  \n",
              "3     42065437  \n",
              "4     88304465  \n",
              "..         ...  \n",
              "146   92147361  \n",
              "147  143943184  \n",
              "148   57646099  \n",
              "149  339442798  \n",
              "150  108722161  \n",
              "\n",
              "[151 rows x 12 columns]"
            ],
            "text/html": [
              "\n",
              "  <div id=\"df-bc6e5f88-d10b-4b1a-b61c-41939a0c0cfc\">\n",
              "    <div class=\"colab-df-container\">\n",
              "      <div>\n",
              "<style scoped>\n",
              "    .dataframe tbody tr th:only-of-type {\n",
              "        vertical-align: middle;\n",
              "    }\n",
              "\n",
              "    .dataframe tbody tr th {\n",
              "        vertical-align: top;\n",
              "    }\n",
              "\n",
              "    .dataframe thead th {\n",
              "        text-align: right;\n",
              "    }\n",
              "</style>\n",
              "<table border=\"1\" class=\"dataframe\">\n",
              "  <thead>\n",
              "    <tr style=\"text-align: right;\">\n",
              "      <th></th>\n",
              "      <th>행정구역</th>\n",
              "      <th>절도</th>\n",
              "      <th>살인</th>\n",
              "      <th>강도</th>\n",
              "      <th>폭행</th>\n",
              "      <th>성폭력</th>\n",
              "      <th>총합</th>\n",
              "      <th>초중고</th>\n",
              "      <th>유치원</th>\n",
              "      <th>유흥주점</th>\n",
              "      <th>전체인구</th>\n",
              "      <th>면적</th>\n",
              "    </tr>\n",
              "  </thead>\n",
              "  <tbody>\n",
              "    <tr>\n",
              "      <th>0</th>\n",
              "      <td>강원도 강릉시</td>\n",
              "      <td>640</td>\n",
              "      <td>2</td>\n",
              "      <td>8</td>\n",
              "      <td>1290</td>\n",
              "      <td>171</td>\n",
              "      <td>2111</td>\n",
              "      <td>61</td>\n",
              "      <td>36</td>\n",
              "      <td>211</td>\n",
              "      <td>212965</td>\n",
              "      <td>84958649</td>\n",
              "    </tr>\n",
              "    <tr>\n",
              "      <th>1</th>\n",
              "      <td>강원도 동해시</td>\n",
              "      <td>185</td>\n",
              "      <td>2</td>\n",
              "      <td>0</td>\n",
              "      <td>470</td>\n",
              "      <td>54</td>\n",
              "      <td>711</td>\n",
              "      <td>27</td>\n",
              "      <td>15</td>\n",
              "      <td>125</td>\n",
              "      <td>90081</td>\n",
              "      <td>124014784</td>\n",
              "    </tr>\n",
              "    <tr>\n",
              "      <th>2</th>\n",
              "      <td>강원도 삼척시</td>\n",
              "      <td>140</td>\n",
              "      <td>2</td>\n",
              "      <td>1</td>\n",
              "      <td>381</td>\n",
              "      <td>30</td>\n",
              "      <td>554</td>\n",
              "      <td>41</td>\n",
              "      <td>16</td>\n",
              "      <td>85</td>\n",
              "      <td>63429</td>\n",
              "      <td>79882140</td>\n",
              "    </tr>\n",
              "    <tr>\n",
              "      <th>3</th>\n",
              "      <td>강원도 속초시</td>\n",
              "      <td>281</td>\n",
              "      <td>1</td>\n",
              "      <td>2</td>\n",
              "      <td>718</td>\n",
              "      <td>56</td>\n",
              "      <td>1058</td>\n",
              "      <td>19</td>\n",
              "      <td>14</td>\n",
              "      <td>80</td>\n",
              "      <td>82791</td>\n",
              "      <td>42065437</td>\n",
              "    </tr>\n",
              "    <tr>\n",
              "      <th>4</th>\n",
              "      <td>강원도 원주시</td>\n",
              "      <td>1150</td>\n",
              "      <td>5</td>\n",
              "      <td>7</td>\n",
              "      <td>1625</td>\n",
              "      <td>192</td>\n",
              "      <td>2979</td>\n",
              "      <td>90</td>\n",
              "      <td>72</td>\n",
              "      <td>251</td>\n",
              "      <td>357757</td>\n",
              "      <td>88304465</td>\n",
              "    </tr>\n",
              "    <tr>\n",
              "      <th>...</th>\n",
              "      <td>...</td>\n",
              "      <td>...</td>\n",
              "      <td>...</td>\n",
              "      <td>...</td>\n",
              "      <td>...</td>\n",
              "      <td>...</td>\n",
              "      <td>...</td>\n",
              "      <td>...</td>\n",
              "      <td>...</td>\n",
              "      <td>...</td>\n",
              "      <td>...</td>\n",
              "      <td>...</td>\n",
              "    </tr>\n",
              "    <tr>\n",
              "      <th>146</th>\n",
              "      <td>충청남도 아산시</td>\n",
              "      <td>1201</td>\n",
              "      <td>7</td>\n",
              "      <td>15</td>\n",
              "      <td>1869</td>\n",
              "      <td>153</td>\n",
              "      <td>3245</td>\n",
              "      <td>77</td>\n",
              "      <td>63</td>\n",
              "      <td>197</td>\n",
              "      <td>324580</td>\n",
              "      <td>92147361</td>\n",
              "    </tr>\n",
              "    <tr>\n",
              "      <th>147</th>\n",
              "      <td>충청남도 천안시</td>\n",
              "      <td>2865</td>\n",
              "      <td>8</td>\n",
              "      <td>14</td>\n",
              "      <td>3025</td>\n",
              "      <td>496</td>\n",
              "      <td>6408</td>\n",
              "      <td>131</td>\n",
              "      <td>113</td>\n",
              "      <td>327</td>\n",
              "      <td>658486</td>\n",
              "      <td>143943184</td>\n",
              "    </tr>\n",
              "    <tr>\n",
              "      <th>148</th>\n",
              "      <td>충청북도 제천시</td>\n",
              "      <td>373</td>\n",
              "      <td>3</td>\n",
              "      <td>3</td>\n",
              "      <td>625</td>\n",
              "      <td>251</td>\n",
              "      <td>1255</td>\n",
              "      <td>43</td>\n",
              "      <td>23</td>\n",
              "      <td>94</td>\n",
              "      <td>131591</td>\n",
              "      <td>57646099</td>\n",
              "    </tr>\n",
              "    <tr>\n",
              "      <th>149</th>\n",
              "      <td>충청북도 청주시</td>\n",
              "      <td>3211</td>\n",
              "      <td>4</td>\n",
              "      <td>9</td>\n",
              "      <td>4490</td>\n",
              "      <td>559</td>\n",
              "      <td>8273</td>\n",
              "      <td>182</td>\n",
              "      <td>124</td>\n",
              "      <td>186</td>\n",
              "      <td>848482</td>\n",
              "      <td>339442798</td>\n",
              "    </tr>\n",
              "    <tr>\n",
              "      <th>150</th>\n",
              "      <td>충청북도 충주시</td>\n",
              "      <td>790</td>\n",
              "      <td>4</td>\n",
              "      <td>3</td>\n",
              "      <td>871</td>\n",
              "      <td>108</td>\n",
              "      <td>1776</td>\n",
              "      <td>66</td>\n",
              "      <td>43</td>\n",
              "      <td>179</td>\n",
              "      <td>209358</td>\n",
              "      <td>108722161</td>\n",
              "    </tr>\n",
              "  </tbody>\n",
              "</table>\n",
              "<p>151 rows × 12 columns</p>\n",
              "</div>\n",
              "      <button class=\"colab-df-convert\" onclick=\"convertToInteractive('df-bc6e5f88-d10b-4b1a-b61c-41939a0c0cfc')\"\n",
              "              title=\"Convert this dataframe to an interactive table.\"\n",
              "              style=\"display:none;\">\n",
              "        \n",
              "  <svg xmlns=\"http://www.w3.org/2000/svg\" height=\"24px\"viewBox=\"0 0 24 24\"\n",
              "       width=\"24px\">\n",
              "    <path d=\"M0 0h24v24H0V0z\" fill=\"none\"/>\n",
              "    <path d=\"M18.56 5.44l.94 2.06.94-2.06 2.06-.94-2.06-.94-.94-2.06-.94 2.06-2.06.94zm-11 1L8.5 8.5l.94-2.06 2.06-.94-2.06-.94L8.5 2.5l-.94 2.06-2.06.94zm10 10l.94 2.06.94-2.06 2.06-.94-2.06-.94-.94-2.06-.94 2.06-2.06.94z\"/><path d=\"M17.41 7.96l-1.37-1.37c-.4-.4-.92-.59-1.43-.59-.52 0-1.04.2-1.43.59L10.3 9.45l-7.72 7.72c-.78.78-.78 2.05 0 2.83L4 21.41c.39.39.9.59 1.41.59.51 0 1.02-.2 1.41-.59l7.78-7.78 2.81-2.81c.8-.78.8-2.07 0-2.86zM5.41 20L4 18.59l7.72-7.72 1.47 1.35L5.41 20z\"/>\n",
              "  </svg>\n",
              "      </button>\n",
              "      \n",
              "  <style>\n",
              "    .colab-df-container {\n",
              "      display:flex;\n",
              "      flex-wrap:wrap;\n",
              "      gap: 12px;\n",
              "    }\n",
              "\n",
              "    .colab-df-convert {\n",
              "      background-color: #E8F0FE;\n",
              "      border: none;\n",
              "      border-radius: 50%;\n",
              "      cursor: pointer;\n",
              "      display: none;\n",
              "      fill: #1967D2;\n",
              "      height: 32px;\n",
              "      padding: 0 0 0 0;\n",
              "      width: 32px;\n",
              "    }\n",
              "\n",
              "    .colab-df-convert:hover {\n",
              "      background-color: #E2EBFA;\n",
              "      box-shadow: 0px 1px 2px rgba(60, 64, 67, 0.3), 0px 1px 3px 1px rgba(60, 64, 67, 0.15);\n",
              "      fill: #174EA6;\n",
              "    }\n",
              "\n",
              "    [theme=dark] .colab-df-convert {\n",
              "      background-color: #3B4455;\n",
              "      fill: #D2E3FC;\n",
              "    }\n",
              "\n",
              "    [theme=dark] .colab-df-convert:hover {\n",
              "      background-color: #434B5C;\n",
              "      box-shadow: 0px 1px 3px 1px rgba(0, 0, 0, 0.15);\n",
              "      filter: drop-shadow(0px 1px 2px rgba(0, 0, 0, 0.3));\n",
              "      fill: #FFFFFF;\n",
              "    }\n",
              "  </style>\n",
              "\n",
              "      <script>\n",
              "        const buttonEl =\n",
              "          document.querySelector('#df-bc6e5f88-d10b-4b1a-b61c-41939a0c0cfc button.colab-df-convert');\n",
              "        buttonEl.style.display =\n",
              "          google.colab.kernel.accessAllowed ? 'block' : 'none';\n",
              "\n",
              "        async function convertToInteractive(key) {\n",
              "          const element = document.querySelector('#df-bc6e5f88-d10b-4b1a-b61c-41939a0c0cfc');\n",
              "          const dataTable =\n",
              "            await google.colab.kernel.invokeFunction('convertToInteractive',\n",
              "                                                     [key], {});\n",
              "          if (!dataTable) return;\n",
              "\n",
              "          const docLinkHtml = 'Like what you see? Visit the ' +\n",
              "            '<a target=\"_blank\" href=https://colab.research.google.com/notebooks/data_table.ipynb>data table notebook</a>'\n",
              "            + ' to learn more about interactive tables.';\n",
              "          element.innerHTML = '';\n",
              "          dataTable['output_type'] = 'display_data';\n",
              "          await google.colab.output.renderOutput(dataTable, element);\n",
              "          const docLink = document.createElement('div');\n",
              "          docLink.innerHTML = docLinkHtml;\n",
              "          element.appendChild(docLink);\n",
              "        }\n",
              "      </script>\n",
              "    </div>\n",
              "  </div>\n",
              "  "
            ]
          },
          "metadata": {},
          "execution_count": 9
        }
      ]
    },
    {
      "cell_type": "code",
      "source": [
        "nd.columns"
      ],
      "metadata": {
        "colab": {
          "base_uri": "https://localhost:8080/"
        },
        "id": "-gTepfLjbczs",
        "outputId": "6c1eeea8-2409-4273-9236-5f6c9201bc94"
      },
      "execution_count": null,
      "outputs": [
        {
          "output_type": "execute_result",
          "data": {
            "text/plain": [
              "Index(['행정구역', '절도', '살인', '강도', '폭행', '성폭력', '총합', '초중고', '유치원', '유흥주점',\n",
              "       '전체인구', '면적'],\n",
              "      dtype='object')"
            ]
          },
          "metadata": {},
          "execution_count": 10
        }
      ]
    },
    {
      "cell_type": "code",
      "source": [
        "nd['범죄율']=nd['총합']/nd['전체인구']*100000"
      ],
      "metadata": {
        "id": "_EY5kgGvduts"
      },
      "execution_count": null,
      "outputs": []
    },
    {
      "cell_type": "code",
      "source": [
        "for i in ['절도', '살인', '강도', '폭행', '성폭력']:\n",
        "  nd[i+'율']=nd[i]/nd['전체인구']*100000"
      ],
      "metadata": {
        "id": "D0GRxlm7gJIv"
      },
      "execution_count": null,
      "outputs": []
    },
    {
      "cell_type": "code",
      "source": [
        "for i in ['초중고', '유치원', '유흥주점']:\n",
        "  nd[i+'비율']=nd[i]/nd['면적']*1000000"
      ],
      "metadata": {
        "id": "DmsBgyZtgdJ0"
      },
      "execution_count": null,
      "outputs": []
    },
    {
      "cell_type": "code",
      "source": [
        "c=['절도', '살인', '강도', '폭행', '성폭력', '총합', '범죄율', '절도율', '살인율', '강도율', '폭행율', '성폭력율']\n",
        "for i in ['초중고', '유치원', '유흥주점', '초중고비율', '유치원비율', '유흥주점비율']:\n",
        "  for j in c:\n",
        "    print(i,j,nd[j].corr(nd[i]))\n",
        "  print()"
      ],
      "metadata": {
        "colab": {
          "base_uri": "https://localhost:8080/"
        },
        "id": "ifjFl7vbctlF",
        "outputId": "1dd45783-d0c7-4cb9-8554-411683fdb23c"
      },
      "execution_count": null,
      "outputs": [
        {
          "output_type": "stream",
          "name": "stdout",
          "text": [
            "초중고 절도 0.7696869056926792\n",
            "초중고 살인 0.5599443476516446\n",
            "초중고 강도 0.5563390203853684\n",
            "초중고 폭행 0.8421640984922532\n",
            "초중고 성폭력 0.6388897058476107\n",
            "초중고 총합 0.8176779745170244\n",
            "초중고 범죄율 -0.1373603308745407\n",
            "초중고 절도율 -0.14617138954179168\n",
            "초중고 살인율 -0.18062081522241402\n",
            "초중고 강도율 -0.08481461426041409\n",
            "초중고 폭행율 -0.10107215786966312\n",
            "초중고 성폭력율 -0.11638607761830157\n",
            "\n",
            "유치원 절도 0.42404573557159014\n",
            "유치원 살인 0.2890815365706407\n",
            "유치원 강도 0.34146404547568676\n",
            "유치원 폭행 0.5152459856533197\n",
            "유치원 성폭력 0.327327218719942\n",
            "유치원 총합 0.4760872076685859\n",
            "유치원 범죄율 -0.045938158207456996\n",
            "유치원 절도율 -0.08204678174454856\n",
            "유치원 살인율 -0.11871043336359711\n",
            "유치원 강도율 0.008845658338989575\n",
            "유치원 폭행율 0.012737630455271952\n",
            "유치원 성폭력율 -0.07161547940620053\n",
            "\n",
            "유흥주점 절도 0.5335793614343721\n",
            "유흥주점 살인 0.4901549049477039\n",
            "유흥주점 강도 0.4636447566821419\n",
            "유흥주점 폭행 0.5757173395841592\n",
            "유흥주점 성폭력 0.3493398405653132\n",
            "유흥주점 총합 0.5543047235714136\n",
            "유흥주점 범죄율 0.18589257232975326\n",
            "유흥주점 절도율 0.12437651440507931\n",
            "유흥주점 살인율 -0.019933535641391845\n",
            "유흥주점 강도율 0.08362113326989473\n",
            "유흥주점 폭행율 0.24877658638708303\n",
            "유흥주점 성폭력율 0.05064776549459827\n",
            "\n",
            "초중고비율 절도 0.2056362461184611\n",
            "초중고비율 살인 0.14576149846516895\n",
            "초중고비율 강도 0.1480556087586346\n",
            "초중고비율 폭행 0.03510803476394846\n",
            "초중고비율 성폭력 0.2336094587058864\n",
            "초중고비율 총합 0.12117861507850286\n",
            "초중고비율 범죄율 0.21671628972609644\n",
            "초중고비율 절도율 0.30119581493498065\n",
            "초중고비율 살인율 0.1413133490757117\n",
            "초중고비율 강도율 0.11377918492089585\n",
            "초중고비율 폭행율 0.03769535910433499\n",
            "초중고비율 성폭력율 0.3725276093838887\n",
            "\n",
            "유치원비율 절도 -0.08631880544502087\n",
            "유치원비율 살인 -0.08526325348232644\n",
            "유치원비율 강도 -0.07984741507299452\n",
            "유치원비율 폭행 -0.14255434013982063\n",
            "유치원비율 성폭력 -0.0565755998609442\n",
            "유치원비율 총합 -0.11649353152798814\n",
            "유치원비율 범죄율 0.28967031072984417\n",
            "유치원비율 절도율 0.31719552077767743\n",
            "유치원비율 살인율 0.3325050254825205\n",
            "유치원비율 강도율 0.02195064005852951\n",
            "유치원비율 폭행율 0.19406901344836316\n",
            "유치원비율 성폭력율 0.29369791130563055\n",
            "\n",
            "유흥주점비율 절도 0.05916523104462645\n",
            "유흥주점비율 살인 -0.03145552300455491\n",
            "유흥주점비율 강도 0.025541607344109974\n",
            "유흥주점비율 폭행 -0.006261538458449222\n",
            "유흥주점비율 성폭력 0.02320676320144099\n",
            "유흥주점비율 총합 0.021851146684991017\n",
            "유흥주점비율 범죄율 0.720074191824057\n",
            "유흥주점비율 절도율 0.7433029599795792\n",
            "유흥주점비율 살인율 0.0750088951217763\n",
            "유흥주점비율 강도율 0.10419428558002661\n",
            "유흥주점비율 폭행율 0.6006325017479632\n",
            "유흥주점비율 성폭력율 0.4438596120904839\n",
            "\n"
          ]
        }
      ]
    },
    {
      "cell_type": "code",
      "source": [
        "c=['절도', '살인', '강도', '폭행', '성폭력', '총합', '범죄율', '절도율', '살인율', '강도율', '폭행율', '성폭력율']"
      ],
      "metadata": {
        "id": "PeSiG4JBaV0Y"
      },
      "execution_count": null,
      "outputs": []
    },
    {
      "cell_type": "code",
      "source": [
        "c=['범죄율', '절도율', '살인율', '강도율', '폭행율', '성폭력율']\n",
        "for i in ['초중고', '유치원', '유흥주점', '초중고비율', '유치원비율', '유흥주점비율']:\n",
        "  now=[]\n",
        "  for j in c:\n",
        "    now.append(nd[j].corr(nd[i]))\n",
        "  plt.figure(figsize=(5, 3))\n",
        "  plt.title(i,fontsize=15)\n",
        "  plt.xlabel('시간')\n",
        "  plt.ylabel('범죄')\n",
        "  colors = sns.color_palette('winter',len(now))\n",
        "  plt.bar(c,now,color=colors)\n",
        "  plt.show()"
      ],
      "metadata": {
        "colab": {
          "base_uri": "https://localhost:8080/",
          "height": 1000
        },
        "id": "dY6hwAiAYzfJ",
        "outputId": "41c4b4b7-ba6e-4585-8bff-26b6a10e21d8"
      },
      "execution_count": null,
      "outputs": [
        {
          "output_type": "display_data",
          "data": {
            "text/plain": [
              "<Figure size 360x216 with 1 Axes>"
            ],
            "image/png": "[encoded data removed]"
          },
          "metadata": {
            "image/png": {
              "width": 344,
              "height": 227
            },
            "needs_background": "light"
          }
        },
        {
          "output_type": "display_data",
          "data": {
            "text/plain": [
              "<Figure size 360x216 with 1 Axes>"
            ],
            "image/png": "[encoded data removed]"
          },
          "metadata": {
            "image/png": {
              "width": 338,
              "height": 227
            },
            "needs_background": "light"
          }
        },
        {
          "output_type": "display_data",
          "data": {
            "text/plain": [
              "<Figure size 360x216 with 1 Axes>"
            ],
            "image/png": "[encoded data removed]"
          },
          "metadata": {
            "image/png": {
              "width": 335,
              "height": 227
            },
            "needs_background": "light"
          }
        },
        {
          "output_type": "display_data",
          "data": {
            "text/plain": [
              "<Figure size 360x216 with 1 Axes>"
            ],
            "image/png": "[encoded data removed]"
          },
          "metadata": {
            "image/png": {
              "width": 335,
              "height": 227
            },
            "needs_background": "light"
          }
        },
        {
          "output_type": "display_data",
          "data": {
            "text/plain": [
              "<Figure size 360x216 with 1 Axes>"
            ],
            "image/png": "[encoded data removed]"
          },
          "metadata": {
            "image/png": {
              "width": 335,
              "height": 227
            },
            "needs_background": "light"
          }
        },
        {
          "output_type": "display_data",
          "data": {
            "text/plain": [
              "<Figure size 360x216 with 1 Axes>"
            ],
            "image/png": "[encoded data removed]"
          },
          "metadata": {
            "image/png": {
              "width": 330,
              "height": 227
            },
            "needs_background": "light"
          }
        }
      ]
    },
    {
      "cell_type": "code",
      "source": [
        "df1=pd.read_csv('/content/drive/MyDrive/전국 범죄건수.csv',encoding='cp949')\n",
        "df2=pd.read_csv('/content/drive/MyDrive/대학교 수정.csv')\n",
        "df3=pd.read_csv('/content/drive/MyDrive/R&E채승현.csv',encoding='cp949')\n",
        "df1.columns=['행정구역', '절도', '살인', '강도', '폭행', '성폭력']"
      ],
      "metadata": {
        "id": "kWsClrF4iWof"
      },
      "execution_count": null,
      "outputs": []
    },
    {
      "cell_type": "code",
      "source": [
        "df2=df2[df2['행정구역'].isin(df1['행정구역'])]\n",
        "df1=df1[df1['행정구역'].isin(df2['행정구역'])]\n",
        "df3=df3[df3['행정구역'].isin(df1['행정구역'])]\n",
        "df1=df1.reset_index()\n",
        "df1=df1[['행정구역', '절도', '살인', '강도', '폭행', '성폭력']]\n",
        "df1['총합']=df1['절도']+df1['살인']+df1['강도']+df1['폭행']+df1['성폭력']"
      ],
      "metadata": {
        "id": "Lf2NHq3EkBML"
      },
      "execution_count": null,
      "outputs": []
    },
    {
      "cell_type": "code",
      "source": [
        "df3=df3.reset_index()\n",
        "df3=df3[['전체인구(명)', '면적(m^2)']]\n",
        "df3.columns=['전체인구', '면적']"
      ],
      "metadata": {
        "id": "805WvQC1kDnB"
      },
      "execution_count": null,
      "outputs": []
    },
    {
      "cell_type": "code",
      "source": [
        "df2=df2.reset_index()\n",
        "df2=df2[['행정구역', '개수']]\n",
        "df2.columns=['행정구역', '대학교']"
      ],
      "metadata": {
        "id": "f-iIFeTSkm6T"
      },
      "execution_count": null,
      "outputs": []
    },
    {
      "cell_type": "code",
      "source": [
        "nd=pd.concat([df1,df2,df3],axis=1)"
      ],
      "metadata": {
        "id": "AUPgtvbOkeib"
      },
      "execution_count": null,
      "outputs": []
    },
    {
      "cell_type": "code",
      "source": [
        "nd['범죄율']=nd['총합']/nd['전체인구']*100000"
      ],
      "metadata": {
        "id": "Oy2fREtnlJue"
      },
      "execution_count": null,
      "outputs": []
    },
    {
      "cell_type": "code",
      "source": [
        "for i in ['절도', '살인', '강도', '폭행', '성폭력']:\n",
        "  nd[i+'율']=nd[i]/nd['전체인구']*100000"
      ],
      "metadata": {
        "id": "yJMnwEeFllVg"
      },
      "execution_count": null,
      "outputs": []
    },
    {
      "cell_type": "code",
      "source": [
        "nd['대학교비율']=nd['대학교']/nd['면적']*1000000"
      ],
      "metadata": {
        "id": "jOjYMxQ_loZy"
      },
      "execution_count": null,
      "outputs": []
    },
    {
      "cell_type": "code",
      "source": [
        "c=['절도', '살인', '강도', '폭행', '성폭력', '총합', '범죄율', '절도율', '살인율', '강도율', '폭행율', '성폭력율']\n",
        "for i in ['대학교','대학교비율']:\n",
        "  for j in c:\n",
        "    print(i,j,nd[j].corr(nd[i]))\n",
        "  print()"
      ],
      "metadata": {
        "colab": {
          "base_uri": "https://localhost:8080/"
        },
        "id": "oYPfObh7l3dC",
        "outputId": "5cca9f85-0b56-46b3-d9f5-8b30456e06d7"
      },
      "execution_count": null,
      "outputs": [
        {
          "output_type": "stream",
          "name": "stdout",
          "text": [
            "대학교 절도 0.4519367863832423\n",
            "대학교 살인 0.28536317986364707\n",
            "대학교 강도 0.3155870095356462\n",
            "대학교 폭행 0.38569185362924\n",
            "대학교 성폭력 0.3337954128188696\n",
            "대학교 총합 0.41665508044654526\n",
            "대학교 범죄율 0.08765312365012193\n",
            "대학교 절도율 0.17264925780870732\n",
            "대학교 살인율 -0.042926694377386145\n",
            "대학교 강도율 0.05434638839996326\n",
            "대학교 폭행율 -0.01407408720282436\n",
            "대학교 성폭력율 0.07060092883910411\n",
            "\n",
            "대학교비율 절도 0.03500069618664739\n",
            "대학교비율 살인 0.15666535448311164\n",
            "대학교비율 강도 0.006746640080482586\n",
            "대학교비율 폭행 -0.1035550743548114\n",
            "대학교비율 성폭력 0.05923401457299597\n",
            "대학교비율 총합 -0.03785566881437173\n",
            "대학교비율 범죄율 0.19441236057546027\n",
            "대학교비율 절도율 0.3230732886571028\n",
            "대학교비율 살인율 0.22016503147163022\n",
            "대학교비율 강도율 0.1466713363168184\n",
            "대학교비율 폭행율 -0.013098488706210448\n",
            "대학교비율 성폭력율 0.31900220126208434\n",
            "\n"
          ]
        }
      ]
    },
    {
      "cell_type": "code",
      "source": [
        "df1=pd.read_csv('/content/drive/MyDrive/전국 범죄건수.csv',encoding='cp949')\n",
        "df2=pd.read_csv('/content/drive/MyDrive/학원.csv')\n",
        "df3=pd.read_csv('/content/drive/MyDrive/R&E채승현.csv',encoding='cp949')"
      ],
      "metadata": {
        "id": "tz3YmxQCnOJO"
      },
      "execution_count": null,
      "outputs": []
    },
    {
      "cell_type": "code",
      "source": [
        "df1.columns=['행정구역', '절도', '살인', '강도', '폭행', '성폭력']"
      ],
      "metadata": {
        "id": "zXDuYAPfgZPR"
      },
      "execution_count": null,
      "outputs": []
    },
    {
      "cell_type": "code",
      "source": [
        "df2=df2[df2['행정구역'].isin(df1['행정구역'])]\n",
        "df1=df1[df1['행정구역'].isin(df2['행정구역'])]\n",
        "df3=df3[df3['행정구역'].isin(df1['행정구역'])]\n",
        "df1=df1.reset_index()\n",
        "df1=df1[['행정구역', '절도', '살인', '강도', '폭행', '성폭력']]\n",
        "df1['총합']=df1['절도']+df1['살인']+df1['강도']+df1['폭행']+df1['성폭력']"
      ],
      "metadata": {
        "id": "wCvceFxucuoE"
      },
      "execution_count": null,
      "outputs": []
    },
    {
      "cell_type": "code",
      "source": [
        "df3=df3.reset_index()\n",
        "df3=df3[['전체인구(명)', '면적(m^2)']]\n",
        "df3.columns=['전체인구', '면적']"
      ],
      "metadata": {
        "id": "Nxai4XImggbm"
      },
      "execution_count": null,
      "outputs": []
    },
    {
      "cell_type": "code",
      "source": [
        "df2=df2.reset_index()\n",
        "df2=df2['학원']\n",
        "df2"
      ],
      "metadata": {
        "colab": {
          "base_uri": "https://localhost:8080/"
        },
        "id": "QlojoOdxgm0f",
        "outputId": "780a8a81-4a49-4b6e-809a-52910290a9a7"
      },
      "execution_count": null,
      "outputs": [
        {
          "output_type": "execute_result",
          "data": {
            "text/plain": [
              "0       632\n",
              "1       207\n",
              "2        97\n",
              "3       149\n",
              "4       852\n",
              "       ... \n",
              "143     571\n",
              "144    1693\n",
              "145     252\n",
              "146    2062\n",
              "147     459\n",
              "Name: 학원, Length: 148, dtype: int64"
            ]
          },
          "metadata": {},
          "execution_count": 30
        }
      ]
    },
    {
      "cell_type": "code",
      "source": [
        "nd=pd.concat([df1,df2,df3],axis=1)"
      ],
      "metadata": {
        "id": "uBYzfwoLgrB9"
      },
      "execution_count": null,
      "outputs": []
    },
    {
      "cell_type": "code",
      "source": [
        "nd['범죄율']=nd['총합']/nd['전체인구']*100000"
      ],
      "metadata": {
        "id": "_giOIi2ag4t4"
      },
      "execution_count": null,
      "outputs": []
    },
    {
      "cell_type": "code",
      "source": [
        "nd['학원비율(면적)']=nd['학원']/nd['면적']*1000000\n",
        "nd['학원비율(인구)']=nd['학원']/nd['전체인구']*1000000"
      ],
      "metadata": {
        "id": "Lt2UJiNzhkby"
      },
      "execution_count": null,
      "outputs": []
    },
    {
      "cell_type": "code",
      "source": [
        "for i in ['절도', '살인', '강도', '폭행', '성폭력']:\n",
        "  nd[i+'율']=nd[i]/nd['전체인구']*100000"
      ],
      "metadata": {
        "id": "9msSnjQmhOvW"
      },
      "execution_count": null,
      "outputs": []
    },
    {
      "cell_type": "code",
      "source": [
        "c=['절도', '살인', '강도', '폭행', '성폭력', '총합', '범죄율', '절도율', '살인율', '강도율', '폭행율', '성폭력율']\n",
        "for i in ['학원', '학원비율(면적)', '학원비율(인구)']:\n",
        "  for j in c:\n",
        "    print(i,j,nd[j].corr(nd[i]))\n",
        "  print()"
      ],
      "metadata": {
        "colab": {
          "base_uri": "https://localhost:8080/"
        },
        "id": "KDlprXlGhVA5",
        "outputId": "fe47c6be-a524-4458-95b5-59e2639c64f1"
      },
      "execution_count": null,
      "outputs": [
        {
          "output_type": "stream",
          "name": "stdout",
          "text": [
            "학원 절도 0.8098952354003671\n",
            "학원 살인 0.5245732219980519\n",
            "학원 강도 0.599943790974516\n",
            "학원 폭행 0.8296892684880333\n",
            "학원 성폭력 0.8008185788406303\n",
            "학원 총합 0.8413241033258834\n",
            "학원 범죄율 -0.12619445248191713\n",
            "학원 절도율 -0.0966473074611622\n",
            "학원 살인율 -0.258454940238621\n",
            "학원 강도율 -0.04672996986521898\n",
            "학원 폭행율 -0.16963502770794844\n",
            "학원 성폭력율 0.047791045796291565\n",
            "\n",
            "학원비율(면적) 절도 0.41787242275157244\n",
            "학원비율(면적) 살인 0.23835273304633156\n",
            "학원비율(면적) 강도 0.3072237050416129\n",
            "학원비율(면적) 폭행 0.2341761678016288\n",
            "학원비율(면적) 성폭력 0.48168983654961084\n",
            "학원비율(면적) 총합 0.335081615424481\n",
            "학원비율(면적) 범죄율 0.08542313528907206\n",
            "학원비율(면적) 절도율 0.19220364046043237\n",
            "학원비율(면적) 살인율 -0.11869974770368032\n",
            "학원비율(면적) 강도율 0.07818957206757868\n",
            "학원비율(면적) 폭행율 -0.10971073569028154\n",
            "학원비율(면적) 성폭력율 0.3252762863224622\n",
            "\n",
            "학원비율(인구) 절도 0.4331779456314457\n",
            "학원비율(인구) 살인 0.1618637510738932\n",
            "학원비율(인구) 강도 0.3170076479943161\n",
            "학원비율(인구) 폭행 0.38992117564465545\n",
            "학원비율(인구) 성폭력 0.4651741132019532\n",
            "학원비율(인구) 총합 0.42391735634432826\n",
            "학원비율(인구) 범죄율 -0.017593069838086808\n",
            "학원비율(인구) 절도율 0.04729972626321688\n",
            "학원비율(인구) 살인율 -0.3372010404186367\n",
            "학원비율(인구) 강도율 0.05960901701113822\n",
            "학원비율(인구) 폭행율 -0.1171817967896646\n",
            "학원비율(인구) 성폭력율 0.1143108605402756\n",
            "\n"
          ]
        }
      ]
    },
    {
      "cell_type": "code",
      "source": [
        "df1=pd.read_csv('/content/drive/MyDrive/전국 범죄건수.csv',encoding='cp949')\n",
        "df3=pd.read_csv('/content/drive/MyDrive/R&E채승현.csv',encoding='cp949')\n",
        "df2=pd.read_csv('/content/drive/MyDrive/전국 CCTV (1).csv')"
      ],
      "metadata": {
        "id": "bB6kjZbOIOTB"
      },
      "execution_count": null,
      "outputs": []
    },
    {
      "cell_type": "code",
      "source": [
        "df2.columns"
      ],
      "metadata": {
        "colab": {
          "base_uri": "https://localhost:8080/"
        },
        "id": "bu604nyrNmPr",
        "outputId": "562d26c3-21be-4da9-98f7-d80a6643e1ef"
      },
      "execution_count": null,
      "outputs": [
        {
          "output_type": "execute_result",
          "data": {
            "text/plain": [
              "Index(['행정구역', 'CCTV개수'], dtype='object')"
            ]
          },
          "metadata": {},
          "execution_count": 37
        }
      ]
    },
    {
      "cell_type": "code",
      "source": [
        "df3=df3[['행정구역', '전체인구(명)', '면적(m^2)']]\n",
        "df3.columns=['행정구역', '전체인구', '면적']"
      ],
      "metadata": {
        "id": "Lm5ZByEPasX0"
      },
      "execution_count": null,
      "outputs": []
    },
    {
      "cell_type": "code",
      "source": [
        "df1.columns=['행정구역', '절도', '살인', '강도', '폭행', '성폭력']"
      ],
      "metadata": {
        "id": "8NAveHLdbgje"
      },
      "execution_count": null,
      "outputs": []
    },
    {
      "cell_type": "code",
      "source": [
        "df1['총합']=df1['절도']+df1['살인']+df1['강도']+df1['폭행']+df1['성폭력']"
      ],
      "metadata": {
        "id": "n0hzGPfcenQr"
      },
      "execution_count": null,
      "outputs": []
    },
    {
      "cell_type": "code",
      "source": [
        "df2=df2[df2['CCTV개수']!=0]"
      ],
      "metadata": {
        "id": "DA8lFE5jbEYk"
      },
      "execution_count": null,
      "outputs": []
    },
    {
      "cell_type": "code",
      "source": [
        "df2=df2[df2['행정구역'].isin(df1['행정구역'])]\n",
        "df1=df1[df1['행정구역'].isin(df2['행정구역'])]\n",
        "df3=df3[df3['행정구역'].isin(df2['행정구역'])]"
      ],
      "metadata": {
        "id": "ZYlTVMsvbOp5"
      },
      "execution_count": null,
      "outputs": []
    },
    {
      "cell_type": "code",
      "source": [
        "df3=df3.reset_index()\n",
        "df3=df3[['전체인구', '면적']]"
      ],
      "metadata": {
        "id": "YeurNP99dZu1"
      },
      "execution_count": null,
      "outputs": []
    },
    {
      "cell_type": "code",
      "source": [
        "df2=df2.reset_index()\n",
        "df2=df2[['행정구역', 'CCTV개수']]"
      ],
      "metadata": {
        "id": "shEX70WKeJLf"
      },
      "execution_count": null,
      "outputs": []
    },
    {
      "cell_type": "code",
      "source": [
        "df1=df1.reset_index()\n",
        "df1=df1[['총합', '절도', '살인', '강도', '폭행', '성폭력']]"
      ],
      "metadata": {
        "id": "s-wWdMEieSUK"
      },
      "execution_count": null,
      "outputs": []
    },
    {
      "cell_type": "code",
      "source": [
        "nd=pd.concat([df2,df1,df3],axis=1)"
      ],
      "metadata": {
        "id": "ESCs_vFVccce"
      },
      "execution_count": null,
      "outputs": []
    },
    {
      "cell_type": "code",
      "source": [
        "nd['범죄율']=nd['총합']/nd['전체인구']*100000"
      ],
      "metadata": {
        "id": "585ira9AekUs"
      },
      "execution_count": null,
      "outputs": []
    },
    {
      "cell_type": "code",
      "source": [
        "for i in ['절도', '살인', '강도', '폭행', '성폭력']:\n",
        "  nd[i+'율']=nd[i]/nd['전체인구']*100000"
      ],
      "metadata": {
        "id": "GuDZGtPQe-Bk"
      },
      "execution_count": null,
      "outputs": []
    },
    {
      "cell_type": "code",
      "source": [
        "nd['CCTV개수비율(면적)']=nd['CCTV개수']/nd['면적']*1000000\n",
        "nd['CCTV개수비율(인구)']=nd['CCTV개수']/nd['전체인구']*100000"
      ],
      "metadata": {
        "id": "UDiyTYLYfRDS"
      },
      "execution_count": null,
      "outputs": []
    },
    {
      "cell_type": "code",
      "source": [
        "c=['절도', '살인', '강도', '폭행', '성폭력', '총합', '범죄율', '절도율', '살인율', '강도율', '폭행율', '성폭력율']\n",
        "for i in ['CCTV개수','CCTV개수비율(면적)','CCTV개수비율(인구)']:\n",
        "  for j in c:\n",
        "    print(i,j,nd[j].corr(nd[i]))\n",
        "  print()"
      ],
      "metadata": {
        "colab": {
          "base_uri": "https://localhost:8080/"
        },
        "id": "pWEf4niLfBmf",
        "outputId": "a7dac2c0-cb27-43b0-c764-b86b7a60924c"
      },
      "execution_count": null,
      "outputs": [
        {
          "output_type": "stream",
          "name": "stdout",
          "text": [
            "CCTV개수 절도 0.6040408747537432\n",
            "CCTV개수 살인 0.4807927557299191\n",
            "CCTV개수 강도 0.40248151050344483\n",
            "CCTV개수 폭행 0.6570313482647994\n",
            "CCTV개수 성폭력 0.6081344109567803\n",
            "CCTV개수 총합 0.6490479763172599\n",
            "CCTV개수 범죄율 -0.08070168552608771\n",
            "CCTV개수 절도율 -0.09803822981219922\n",
            "CCTV개수 살인율 -0.09787414721979208\n",
            "CCTV개수 강도율 -0.0820138570065829\n",
            "CCTV개수 폭행율 -0.06207510409834711\n",
            "CCTV개수 성폭력율 0.01845890980607586\n",
            "\n",
            "CCTV개수비율(면적) 절도 0.1768465674503874\n",
            "CCTV개수비율(면적) 살인 0.1358871913916076\n",
            "CCTV개수비율(면적) 강도 0.057097728208063254\n",
            "CCTV개수비율(면적) 폭행 0.040518230412146104\n",
            "CCTV개수비율(면적) 성폭력 0.2326368710869844\n",
            "CCTV개수비율(면적) 총합 0.11155874137350553\n",
            "CCTV개수비율(면적) 범죄율 0.1744829962951644\n",
            "CCTV개수비율(면적) 절도율 0.23803309531696942\n",
            "CCTV개수비율(면적) 살인율 0.03652761784788858\n",
            "CCTV개수비율(면적) 강도율 0.0023599987307427756\n",
            "CCTV개수비율(면적) 폭행율 0.03543584794369787\n",
            "CCTV개수비율(면적) 성폭력율 0.3224401712656585\n",
            "\n",
            "CCTV개수비율(인구) 절도 -0.2291211913571439\n",
            "CCTV개수비율(인구) 살인 -0.14551659171188486\n",
            "CCTV개수비율(인구) 강도 -0.2133132561211632\n",
            "CCTV개수비율(인구) 폭행 -0.1884348666226033\n",
            "CCTV개수비율(인구) 성폭력 -0.18055797619596192\n",
            "CCTV개수비율(인구) 총합 -0.20867419776773657\n",
            "CCTV개수비율(인구) 범죄율 0.04742077038838026\n",
            "CCTV개수비율(인구) 절도율 -0.00679954052825852\n",
            "CCTV개수비율(인구) 살인율 0.11843811133378787\n",
            "CCTV개수비율(인구) 강도율 -0.11732605355900236\n",
            "CCTV개수비율(인구) 폭행율 0.10437963120302543\n",
            "CCTV개수비율(인구) 성폭력율 0.03869744955553125\n",
            "\n"
          ]
        }
      ]
    },
    {
      "cell_type": "code",
      "source": [
        "nd['CCTV개수'].corr(nd['전체인구'])"
      ],
      "metadata": {
        "colab": {
          "base_uri": "https://localhost:8080/"
        },
        "id": "nxuZi-SDgAJY",
        "outputId": "9e0b586c-f5e1-4f33-e75d-fe7549796eef"
      },
      "execution_count": null,
      "outputs": [
        {
          "output_type": "execute_result",
          "data": {
            "text/plain": [
              "0.6730975495060871"
            ]
          },
          "metadata": {},
          "execution_count": 51
        }
      ]
    },
    {
      "cell_type": "code",
      "source": [
        "print(nd['CCTV개수비율(인구)'].corr(nd['전체인구']/nd['면적']*1000000))\n",
        "print(nd['CCTV개수비율(면적)'].corr(nd['전체인구']/nd['면적']*1000000))"
      ],
      "metadata": {
        "colab": {
          "base_uri": "https://localhost:8080/"
        },
        "id": "QIep9HbTgHnN",
        "outputId": "d9734c91-45b5-4208-81f3-c063d2379df4"
      },
      "execution_count": null,
      "outputs": [
        {
          "output_type": "stream",
          "name": "stdout",
          "text": [
            "-0.1272008903216217\n",
            "0.7453447775556172\n"
          ]
        }
      ]
    }
  ]
}